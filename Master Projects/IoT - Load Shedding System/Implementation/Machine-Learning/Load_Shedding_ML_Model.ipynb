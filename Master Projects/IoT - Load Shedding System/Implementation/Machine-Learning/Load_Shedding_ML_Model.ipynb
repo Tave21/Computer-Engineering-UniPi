{
  "nbformat": 4,
  "nbformat_minor": 0,
  "metadata": {
    "colab": {
      "provenance": []
    },
    "kernelspec": {
      "name": "python3",
      "display_name": "Python 3"
    },
    "language_info": {
      "name": "python"
    }
  },
  "cells": [
    {
      "cell_type": "code",
      "source": [
        "import pandas as pd\n",
        "\n",
        "#Upload the dataset and remove NaN values\n",
        "data = pd.read_csv(\n",
        "    'household_power_consumption.txt',\n",
        "    sep=';',\n",
        "    header=0,\n",
        "    na_values='?',\n",
        "    low_memory=False\n",
        ")\n",
        "\n",
        "# Time column cleaning: if it ends with ':', then add '00' for missing seconds\n",
        "def fix_time(t):\n",
        "    if isinstance(t, str) and t.endswith(':'):\n",
        "        return t + '00'\n",
        "    return t\n",
        "\n",
        "data['Time'] = data['Time'].apply(fix_time)\n",
        "\n",
        "# Combine Date and Time columns in a unique datedatime one, discard wrong parsings\n",
        "data['Datetime'] = pd.to_datetime(\n",
        "    data['Date'] + ' ' + data['Time'],\n",
        "    dayfirst=True,\n",
        "    errors='coerce'\n",
        ")\n",
        "data = data.dropna(subset=['Datetime'])\n",
        "\n",
        "# Filter to mantain only the first year of measurements\n",
        "start = pd.Timestamp('2006-12-16 17:24:00')\n",
        "end   = pd.Timestamp('2007-12-16 17:24:00')\n",
        "data = data[(data['Datetime'] >= start) & (data['Datetime'] <= end)]\n",
        "\n",
        "# Select the Power consumption column\n",
        "data = data[['Datetime', 'Global_active_power']].rename(\n",
        "    columns={'Global_active_power': 'Power Consumption (kW)'}\n",
        ")\n",
        "\n",
        "# Extract Month, Day, Hour, Minute\n",
        "data['Month']  = data['Datetime'].dt.month\n",
        "data['Day']    = data['Datetime'].dt.day\n",
        "data['Hour']   = data['Datetime'].dt.hour\n",
        "data['Minute'] = data['Datetime'].dt.minute\n",
        "\n",
        "# Remove null and zeros\n",
        "data = data[data['Power Consumption (kW)'] > 0]\n",
        "\n",
        "# Show first rows\n",
        "print(data.head())\n",
        "\n"
      ],
      "metadata": {
        "colab": {
          "base_uri": "https://localhost:8080/"
        },
        "id": "-VOZCCwadd_t",
        "outputId": "b95dd3fb-79c7-45fd-dab0-b6f416b18c92"
      },
      "execution_count": 22,
      "outputs": [
        {
          "output_type": "stream",
          "name": "stdout",
          "text": [
            "             Datetime  Power Consumption (kW)  Month  Day  Hour  Minute\n",
            "0 2006-12-16 17:24:00                   4.216     12   16    17      24\n",
            "1 2006-12-16 17:25:00                   5.360     12   16    17      25\n",
            "2 2006-12-16 17:26:00                   5.374     12   16    17      26\n",
            "3 2006-12-16 17:27:00                   5.388     12   16    17      27\n",
            "4 2006-12-16 17:28:00                   3.666     12   16    17      28\n"
          ]
        }
      ]
    },
    {
      "cell_type": "code",
      "source": [
        "from sklearn.model_selection import train_test_split\n",
        "from sklearn.metrics import mean_squared_error, r2_score\n",
        "from sklearn.preprocessing import StandardScaler\n",
        "from sklearn.ensemble import RandomForestRegressor\n",
        "\n",
        "\n",
        "# Prepare the data for modeling\n",
        "x = data[['Month', 'Day', 'Hour', 'Minute']]\n",
        "y = data['Power Consumption (kW)']\n",
        "\n",
        "# Split the data into training and testing sets\n",
        "x_train, x_test, y_train, y_test = train_test_split(\n",
        "    x, y, test_size=0.2, random_state=42\n",
        ")\n",
        "\n",
        "# Standardize the features\n",
        "scaler = StandardScaler()\n",
        "x_train_scaled = scaler.fit_transform(x_train)\n",
        "x_test_scaled = scaler.transform(x_test)\n",
        "\n",
        "model = RandomForestRegressor(n_estimators=10, max_depth = 12, random_state=42)\n",
        "model.fit(x_train_scaled, y_train)\n",
        "y_pred = model.predict(x_test_scaled)\n",
        "# Evaluation metrics\n",
        "mse = mean_squared_error(y_test, y_pred)\n",
        "r2  = r2_score(y_test, y_pred)\n",
        "print(f\"MSE: {mse:.2f} | R²: {r2:.2f}\")"
      ],
      "metadata": {
        "colab": {
          "base_uri": "https://localhost:8080/"
        },
        "id": "q6Z1Ha_Eimh2",
        "outputId": "c17c4974-2ebb-4363-9c54-f5c93ecb329d"
      },
      "execution_count": 39,
      "outputs": [
        {
          "output_type": "stream",
          "name": "stdout",
          "text": [
            "MSE: 0.59 | R²: 0.57\n"
          ]
        }
      ]
    },
    {
      "cell_type": "code",
      "source": [
        "# Import necessary libraries for data handling and numerical operations\n",
        "import pandas as pd\n",
        "import numpy as np\n",
        "\n",
        "\n",
        "# Load the dataset from a CSV file where values are separated by semicolons\n",
        "# - 'na_values' defines '?' as missing data\n",
        "# - 'low_memory=False' ensures pandas reads the file in one go, avoiding mixed types\n",
        "data = pd.read_csv(\n",
        "    'household_power_consumption.txt',\n",
        "    sep=';',\n",
        "    header=0,\n",
        "    na_values='?',\n",
        "    low_memory=False\n",
        ")\n",
        "\n",
        "\n",
        "# Define a function to fix time strings that might end with a colon (e.g., '18:')\n",
        "# It appends '00' to correct incomplete time entries\n",
        "def fix_time(t):\n",
        "    if isinstance(t, str) and t.endswith(':'):\n",
        "        return t + '00'\n",
        "    return t\n",
        "\n",
        "\n",
        "# Apply the fix_time function to the 'Time' column to clean up the time format\n",
        "data['Time'] = data['Time'].apply(fix_time)\n",
        "\n",
        "\n",
        "# Combine 'Date' and 'Time' columns into a single datetime column called 'Datetime'\n",
        "# - 'dayfirst=True' assumes the date format is day/month/year\n",
        "# - 'errors=coerce' converts invalid parsing to NaT (missing datetime)\n",
        "data['Datetime'] = pd.to_datetime(\n",
        "    data['Date'] + ' ' + data['Time'],\n",
        "    dayfirst=True,\n",
        "    errors='coerce'\n",
        ")\n",
        "\n",
        "\n",
        "# Drop any rows where 'Datetime' could not be parsed and is NaT\n",
        "data = data.dropna(subset=['Datetime'])\n",
        "\n",
        "\n",
        "# Filter the data to include only entries between two timestamps: Dec 16, 2006 and Dec 16, 2007\n",
        "start = pd.Timestamp('2006-12-16 17:24:00')\n",
        "end   = pd.Timestamp('2007-12-16 17:24:00')\n",
        "data = data[(data['Datetime'] >= start) & (data['Datetime'] <= end)]\n",
        "\n",
        "\n",
        "# Select only the 'Datetime' and 'Global_active_power' columns,\n",
        "# renaming 'Global_active_power' to 'Power (kW)' for clarity\n",
        "data = data[['Datetime', 'Global_active_power']].rename(\n",
        "    columns={'Global_active_power': 'Power (kW)'}\n",
        ")\n",
        "\n",
        "\n",
        "# Convert the 'Power (kW)' column to float type for numerical operations\n",
        "data['Power (kW)'] = data['Power (kW)'].astype(float)\n",
        "\n",
        "\n",
        "# Extract the hour of the day from the 'Datetime' column to a new 'Hour' column\n",
        "data['Hour'] = data['Datetime'].dt.hour\n",
        "\n",
        "\n",
        "# Filter out rows where the power consumption is zero or negative\n",
        "data = data[data['Power (kW)'] > 0]\n",
        "\n",
        "\n",
        "# Define 'day' as data between 6 AM and 8 PM (inclusive)\n",
        "day = data[(data['Hour'] >= 6) & (data['Hour'] <= 20)]\n",
        "\n",
        "\n",
        "# Define 'night' as data before 6 AM or after 8 PM\n",
        "night = data[(data['Hour'] < 6) | (data['Hour'] > 20)]\n",
        "\n",
        "\n",
        "# Calculate the minimum and maximum power load during the day, rounded to 2 decimals\n",
        "MIN_LOAD = round(day['Power (kW)'].min(), 2)\n",
        "MAX_LOAD = round(day['Power (kW)'].max(), 2)\n",
        "\n",
        "\n",
        "# Calculate the maximum power load during the night\n",
        "MAX_NIGHT_LOAD = round(night['Power (kW)'].max(), 2)\n",
        "\n",
        "\n",
        "# Define 'morning' as data between 6 AM and 1 PM (inclusive)\n",
        "morning = data[(data['Hour'] >= 6) & (data['Hour'] <= 13)]\n",
        "\n",
        "\n",
        "# Calculate the difference in power consumption between consecutive morning measurements\n",
        "step_day = morning['Power (kW)'].diff().dropna()\n",
        "\n",
        "\n",
        "# Calculate the average positive increment in morning power consumption,\n",
        "# normalized by the range (MAX_LOAD - MIN_LOAD)\n",
        "DAY_STEP = round(step_day[step_day > 0].mean() / (MAX_LOAD - MIN_LOAD), 3)\n",
        "\n",
        "\n",
        "# Similarly, calculate the absolute average change in power consumption at night,\n",
        "# normalized by the range (MAX_NIGHT_LOAD - MIN_LOAD)\n",
        "step_night = night['Power (kW)'].diff().dropna()\n",
        "NIGHT_STEP = round(step_night.abs().mean() / (MAX_NIGHT_LOAD - MIN_LOAD), 3)\n",
        "\n",
        "\n",
        "# Print suggested macro constants based on the calculated values,\n",
        "# which could be used in embedded systems or further analysis\n",
        "print(\"Suggested macro values:\\n\")\n",
        "print(f\"#define MAX_LOAD {int(np.ceil(MAX_LOAD))} // Max load in W\")\n",
        "print(f\"#define MIN_LOAD {int(np.floor(MIN_LOAD))} // Min load in W\")\n",
        "print(f\"#define MAX_NIGHT_LOAD {int(np.ceil(MAX_NIGHT_LOAD))}\")\n",
        "print(f\"#define DAY_STEP {DAY_STEP} // Relative increment\")\n",
        "print(f\"#define NIGHT_STEP {NIGHT_STEP}\")\n",
        "\n",
        "\n",
        "\n"
      ],
      "metadata": {
        "colab": {
          "base_uri": "https://localhost:8080/"
        },
        "id": "QDgtGfD75x_0",
        "outputId": "7a78e0b8-f410-495d-bcac-f0097ad7867d"
      },
      "execution_count": 45,
      "outputs": [
        {
          "output_type": "stream",
          "name": "stdout",
          "text": [
            "Suggested macro values:\n",
            "\n",
            "#define MAX_LOAD 11 // Max load in W\n",
            "#define MIN_LOAD 0 // Min load in W\n",
            "#define MAX_NIGHT_LOAD 10\n",
            "#define DAY_STEP 0.015 // Relative increment\n",
            "#define NIGHT_STEP 0.008\n"
          ]
        }
      ]
    },
    {
      "cell_type": "code",
      "source": [],
      "metadata": {
        "id": "T51as8Mr7TSE"
      },
      "execution_count": null,
      "outputs": []
    },
    {
      "cell_type": "code",
      "execution_count": 40,
      "metadata": {
        "id": "GwH4FHst7K6z",
        "outputId": "8ba758bf-3166-4bf2-a0e0-4f2861f34b04",
        "colab": {
          "base_uri": "https://localhost:8080/"
        }
      },
      "outputs": [
        {
          "output_type": "stream",
          "name": "stdout",
          "text": [
            "Wrote model to ./load_prediction.h\n"
          ]
        }
      ],
      "source": [
        "import emlearn\n",
        "\n",
        "#Convert the model to C code for use in IoT devices\n",
        "path = './load_prediction.h'\n",
        "cmodel = emlearn.convert(model, method='inline')\n",
        "cmodel.save(file=path, name='load_prediction')\n",
        "\n",
        "print('Wrote model to', path)"
      ]
    }
  ]
}
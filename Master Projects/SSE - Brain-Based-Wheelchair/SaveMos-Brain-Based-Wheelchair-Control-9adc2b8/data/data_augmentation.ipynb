{
 "cells": [
  {
   "cell_type": "code",
   "execution_count": 1,
   "metadata": {},
   "outputs": [
    {
     "name": "stdout",
     "output_type": "stream",
     "text": [
      "Data augmentation completed. The augmented files are saved.\n"
     ]
    }
   ],
   "source": [
    "import pandas as pd\n",
    "import numpy as np\n",
    "import random\n",
    "import uuid\n",
    "import os\n",
    "\n",
    "def augment_data(num_new_rows):\n",
    "    # Load the original CSV files\n",
    "    labels_df = pd.read_csv(\"labels.csv\")\n",
    "    helmet_df = pd.read_csv(\"helmet.csv\")\n",
    "    environment_df = pd.read_csv(\"environment.csv\")\n",
    "    calendar_df = pd.read_csv(\"calendar.csv\")\n",
    "\n",
    "    # Extract the existing UUIDs to ensure uniqueness\n",
    "    existing_uuids = set(labels_df[\"UUID\"])\n",
    "\n",
    "    # Calculate the min and max values for each column in helmet.csv (excluding UUID)\n",
    "    column_min_max = {\n",
    "        column: (helmet_df[column].min(), helmet_df[column].max())\n",
    "        for column in helmet_df.columns if column != \"UUID\"\n",
    "    }\n",
    "\n",
    "    # Define possible values for labels and other files\n",
    "    label_choices = [\"move\", \"turnRight\", \"turnLeft\"]\n",
    "    var2_choices = [\"slippery\", \"plain\", \"slope\", \"house\", \"track\"]\n",
    "    var1_choices = [\"shopping\", \"sport\", \"cooking\", \"relax\", \"gaming\"]\n",
    "\n",
    "    # Create empty lists to store new rows for each file\n",
    "    new_labels = []\n",
    "    new_helmet = []\n",
    "    new_environment = []\n",
    "    new_calendar = []\n",
    "\n",
    "    for _ in range(num_new_rows):\n",
    "        # Generate a unique UUID\n",
    "        new_uuid = None\n",
    "        while not new_uuid or new_uuid in existing_uuids:\n",
    "            new_uuid = str(uuid.uuid4())[4:23]\n",
    "        existing_uuids.add(new_uuid)\n",
    "\n",
    "        # Create a new row for labels.csv\n",
    "        new_labels.append({\"UUID\": new_uuid, \"LABEL\": random.choice(label_choices)})\n",
    "\n",
    "        # Create a new row for helmet.csv\n",
    "        new_helmet_row = {\"UUID\": new_uuid}\n",
    "        for column, (min_val, max_val) in column_min_max.items():\n",
    "            new_helmet_row[column] = np.random.uniform(min_val, max_val)\n",
    "        new_helmet.append(new_helmet_row)\n",
    "\n",
    "        # Create a new row for environment.csv\n",
    "        new_environment.append({\"UUID\": new_uuid, \"VAR2\": random.choice(var2_choices)})\n",
    "\n",
    "        # Create a new row for calendar.csv\n",
    "        new_calendar.append({\"UUID\": new_uuid, \"VAR1\": random.choice(var1_choices)})\n",
    "\n",
    "    # Append the new rows to the original DataFrames\n",
    "    labels_df = pd.concat([labels_df, pd.DataFrame(new_labels)], ignore_index=True)\n",
    "    helmet_df = pd.concat([helmet_df, pd.DataFrame(new_helmet)], ignore_index=True)\n",
    "    environment_df = pd.concat([environment_df, pd.DataFrame(new_environment)], ignore_index=True)\n",
    "    calendar_df = pd.concat([calendar_df, pd.DataFrame(new_calendar)], ignore_index=True)\n",
    "\n",
    "    # Create augmented_data directory if it does not exist\n",
    "    if not os.path.exists(\"augmented_data\"):\n",
    "        os.makedirs(\"augmented_data\")\n",
    "\n",
    "    # Save the augmented DataFrames to new CSV files\n",
    "    labels_df.to_csv(\"augmented_data/augmented_labels.csv\", index=False)\n",
    "    helmet_df.to_csv(\"augmented_data/augmented_helmet.csv\", index=False)\n",
    "    environment_df.to_csv(\"augmented_data/augmented_environment.csv\", index=False)\n",
    "    calendar_df.to_csv(\"augmented_data/augmented_calendar.csv\", index=False)\n",
    "\n",
    "    print(\"Data augmentation completed. The augmented files are saved.\")\n",
    "\n",
    "# Example usage\n",
    "augment_data(num_new_rows=30000)\n"
   ]
  }
 ],
 "metadata": {
  "kernelspec": {
   "display_name": "SSE_Project",
   "language": "python",
   "name": "python3"
  },
  "language_info": {
   "codemirror_mode": {
    "name": "ipython",
    "version": 3
   },
   "file_extension": ".py",
   "mimetype": "text/x-python",
   "name": "python",
   "nbconvert_exporter": "python",
   "pygments_lexer": "ipython3",
   "version": "3.12.7"
  }
 },
 "nbformat": 4,
 "nbformat_minor": 2
}
